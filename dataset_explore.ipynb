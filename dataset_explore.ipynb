{
 "cells": [
  {
   "cell_type": "code",
   "execution_count": 45,
   "metadata": {},
   "outputs": [
    {
     "data": {
      "text/plain": [
       "['Images', 'readme.txt', 'BanglaAbuseMeme_annotation.csv']"
      ]
     },
     "execution_count": 45,
     "metadata": {},
     "output_type": "execute_result"
    }
   ],
   "source": [
    "import os\n",
    "import pandas as pd\n",
    "\n",
    "os.listdir(\"dataset/BanglaAbuseMeme/\")"
   ]
  },
  {
   "cell_type": "code",
   "execution_count": 46,
   "metadata": {},
   "outputs": [],
   "source": [
    "abuse_meme_df = pd.read_csv('dataset/BanglaAbuseMeme/BanglaAbuseMeme_annotation.csv')"
   ]
  },
  {
   "cell_type": "code",
   "execution_count": 47,
   "metadata": {},
   "outputs": [
    {
     "data": {
      "text/html": [
       "<div>\n",
       "<style scoped>\n",
       "    .dataframe tbody tr th:only-of-type {\n",
       "        vertical-align: middle;\n",
       "    }\n",
       "\n",
       "    .dataframe tbody tr th {\n",
       "        vertical-align: top;\n",
       "    }\n",
       "\n",
       "    .dataframe thead th {\n",
       "        text-align: right;\n",
       "    }\n",
       "</style>\n",
       "<table border=\"1\" class=\"dataframe\">\n",
       "  <thead>\n",
       "    <tr style=\"text-align: right;\">\n",
       "      <th></th>\n",
       "      <th>Ids</th>\n",
       "      <th>sentiment</th>\n",
       "      <th>sarcasm</th>\n",
       "      <th>vulgar</th>\n",
       "      <th>abuse</th>\n",
       "      <th>target</th>\n",
       "    </tr>\n",
       "  </thead>\n",
       "  <tbody>\n",
       "    <tr>\n",
       "      <th>0</th>\n",
       "      <td>image_1.jpg</td>\n",
       "      <td>Negative</td>\n",
       "      <td>Yes</td>\n",
       "      <td>Not Vulgar</td>\n",
       "      <td>Abusive</td>\n",
       "      <td>Political</td>\n",
       "    </tr>\n",
       "    <tr>\n",
       "      <th>1</th>\n",
       "      <td>image_2.jpg</td>\n",
       "      <td>Negative</td>\n",
       "      <td>Yes</td>\n",
       "      <td>Vulgar</td>\n",
       "      <td>Non-abusive</td>\n",
       "      <td>NaN</td>\n",
       "    </tr>\n",
       "    <tr>\n",
       "      <th>2</th>\n",
       "      <td>image_3.jpg</td>\n",
       "      <td>Neutral</td>\n",
       "      <td>Yes</td>\n",
       "      <td>Not Vulgar</td>\n",
       "      <td>Non-abusive</td>\n",
       "      <td>Political</td>\n",
       "    </tr>\n",
       "    <tr>\n",
       "      <th>3</th>\n",
       "      <td>image_4.jpg</td>\n",
       "      <td>Neutral</td>\n",
       "      <td>No</td>\n",
       "      <td>Vulgar</td>\n",
       "      <td>Non-abusive</td>\n",
       "      <td>Political</td>\n",
       "    </tr>\n",
       "    <tr>\n",
       "      <th>4</th>\n",
       "      <td>image_5.jpg</td>\n",
       "      <td>Negative</td>\n",
       "      <td>Yes</td>\n",
       "      <td>Not Vulgar</td>\n",
       "      <td>Non-abusive</td>\n",
       "      <td>Political</td>\n",
       "    </tr>\n",
       "  </tbody>\n",
       "</table>\n",
       "</div>"
      ],
      "text/plain": [
       "           Ids sentiment sarcasm      vulgar        abuse     target\n",
       "0  image_1.jpg  Negative     Yes  Not Vulgar      Abusive  Political\n",
       "1  image_2.jpg  Negative     Yes      Vulgar  Non-abusive        NaN\n",
       "2  image_3.jpg   Neutral     Yes  Not Vulgar  Non-abusive  Political\n",
       "3  image_4.jpg   Neutral      No      Vulgar  Non-abusive  Political\n",
       "4  image_5.jpg  Negative     Yes  Not Vulgar  Non-abusive  Political"
      ]
     },
     "execution_count": 47,
     "metadata": {},
     "output_type": "execute_result"
    }
   ],
   "source": [
    "abuse_meme_df.head()"
   ]
  },
  {
   "cell_type": "code",
   "execution_count": 48,
   "metadata": {},
   "outputs": [
    {
     "data": {
      "text/plain": [
       "Ids          4043\n",
       "sentiment       3\n",
       "sarcasm         2\n",
       "vulgar          2\n",
       "abuse           2\n",
       "target         26\n",
       "dtype: int64"
      ]
     },
     "execution_count": 48,
     "metadata": {},
     "output_type": "execute_result"
    }
   ],
   "source": [
    "abuse_meme_df.nunique()"
   ]
  },
  {
   "cell_type": "code",
   "execution_count": 18,
   "metadata": {},
   "outputs": [],
   "source": [
    "mute_df = pd.read_excel(\"dataset/MUTE/train_hate.xlsx\")"
   ]
  },
  {
   "cell_type": "code",
   "execution_count": 19,
   "metadata": {},
   "outputs": [
    {
     "data": {
      "text/html": [
       "<div>\n",
       "<style scoped>\n",
       "    .dataframe tbody tr th:only-of-type {\n",
       "        vertical-align: middle;\n",
       "    }\n",
       "\n",
       "    .dataframe tbody tr th {\n",
       "        vertical-align: top;\n",
       "    }\n",
       "\n",
       "    .dataframe thead th {\n",
       "        text-align: right;\n",
       "    }\n",
       "</style>\n",
       "<table border=\"1\" class=\"dataframe\">\n",
       "  <thead>\n",
       "    <tr style=\"text-align: right;\">\n",
       "      <th></th>\n",
       "      <th>image_name</th>\n",
       "      <th>Captions</th>\n",
       "      <th>Label</th>\n",
       "    </tr>\n",
       "  </thead>\n",
       "  <tbody>\n",
       "    <tr>\n",
       "      <th>0</th>\n",
       "      <td>direct-offense (76).jpg</td>\n",
       "      <td>যখন কোন মেয়ে আমার ডিপি তে লাভ রিয়েক্ট দেয় আমি-</td>\n",
       "      <td>not-hate</td>\n",
       "    </tr>\n",
       "    <tr>\n",
       "      <th>1</th>\n",
       "      <td>KAM (427).jpg</td>\n",
       "      <td>বিয়ের আগে মা এগুলো কি রান্না করছ একটুও স্বাদ হ...</td>\n",
       "      <td>not-hate</td>\n",
       "    </tr>\n",
       "    <tr>\n",
       "      <th>2</th>\n",
       "      <td>ovodro_img (486).jpg</td>\n",
       "      <td>চিকচিক করে বালি কোথাও নাই কাঁদা মুখ খানা সাদা ...</td>\n",
       "      <td>hate</td>\n",
       "    </tr>\n",
       "    <tr>\n",
       "      <th>3</th>\n",
       "      <td>KAM (225).jpg</td>\n",
       "      <td>বাংলাদেশের বিরুদ্ধে লড়তে প্রস্তুত মিয়ানমার!  আ...</td>\n",
       "      <td>not-hate</td>\n",
       "    </tr>\n",
       "    <tr>\n",
       "      <th>4</th>\n",
       "      <td>ovodro_img (614).jpg</td>\n",
       "      <td>যখন  তুমি সবে মাত্র Bathroom থেকে বেরিয়েছো আর ...</td>\n",
       "      <td>not-hate</td>\n",
       "    </tr>\n",
       "  </tbody>\n",
       "</table>\n",
       "</div>"
      ],
      "text/plain": [
       "                image_name                                           Captions  \\\n",
       "0  direct-offense (76).jpg    যখন কোন মেয়ে আমার ডিপি তে লাভ রিয়েক্ট দেয় আমি-    \n",
       "1            KAM (427).jpg  বিয়ের আগে মা এগুলো কি রান্না করছ একটুও স্বাদ হ...   \n",
       "2     ovodro_img (486).jpg  চিকচিক করে বালি কোথাও নাই কাঁদা মুখ খানা সাদা ...   \n",
       "3            KAM (225).jpg  বাংলাদেশের বিরুদ্ধে লড়তে প্রস্তুত মিয়ানমার!  আ...   \n",
       "4     ovodro_img (614).jpg  যখন  তুমি সবে মাত্র Bathroom থেকে বেরিয়েছো আর ...   \n",
       "\n",
       "      Label  \n",
       "0  not-hate  \n",
       "1  not-hate  \n",
       "2      hate  \n",
       "3  not-hate  \n",
       "4  not-hate  "
      ]
     },
     "execution_count": 19,
     "metadata": {},
     "output_type": "execute_result"
    }
   ],
   "source": [
    "mute_df.head()"
   ]
  },
  {
   "cell_type": "code",
   "execution_count": 20,
   "metadata": {},
   "outputs": [
    {
     "data": {
      "text/plain": [
       "image_name    3365\n",
       "Captions      3347\n",
       "Label            2\n",
       "dtype: int64"
      ]
     },
     "execution_count": 20,
     "metadata": {},
     "output_type": "execute_result"
    }
   ],
   "source": [
    "mute_df.nunique()"
   ]
  },
  {
   "cell_type": "code",
   "execution_count": 21,
   "metadata": {},
   "outputs": [],
   "source": [
    "memosen = pd.read_excel(\"dataset/MemoSen/Dataset/multi-sent.xlsx\")"
   ]
  },
  {
   "cell_type": "code",
   "execution_count": 22,
   "metadata": {},
   "outputs": [
    {
     "data": {
      "text/html": [
       "<div>\n",
       "<style scoped>\n",
       "    .dataframe tbody tr th:only-of-type {\n",
       "        vertical-align: middle;\n",
       "    }\n",
       "\n",
       "    .dataframe tbody tr th {\n",
       "        vertical-align: top;\n",
       "    }\n",
       "\n",
       "    .dataframe thead th {\n",
       "        text-align: right;\n",
       "    }\n",
       "</style>\n",
       "<table border=\"1\" class=\"dataframe\">\n",
       "  <thead>\n",
       "    <tr style=\"text-align: right;\">\n",
       "      <th></th>\n",
       "      <th>image_name</th>\n",
       "      <th>Captions</th>\n",
       "      <th>Label_Sentiment</th>\n",
       "    </tr>\n",
       "  </thead>\n",
       "  <tbody>\n",
       "    <tr>\n",
       "      <th>0</th>\n",
       "      <td>tangaila (1).jpg</td>\n",
       "      <td>আম্মাঃ HSC চলে আসছে , এখন থেকে তোর মোবাইল , ল্...</td>\n",
       "      <td>positive</td>\n",
       "    </tr>\n",
       "    <tr>\n",
       "      <th>1</th>\n",
       "      <td>tangaila (2).jpg</td>\n",
       "      <td>WHEN YOUR COUSINS TAKES YOU TO THE DHAN KHET A...</td>\n",
       "      <td>negative</td>\n",
       "    </tr>\n",
       "    <tr>\n",
       "      <th>2</th>\n",
       "      <td>tangaila (3).jpg</td>\n",
       "      <td>WHEN HE SAID 10 MINUTES BUT IT WAS ONLY 2 MINUTES</td>\n",
       "      <td>negative</td>\n",
       "    </tr>\n",
       "    <tr>\n",
       "      <th>3</th>\n",
       "      <td>tangaila (4).jpg</td>\n",
       "      <td>SHE - I CAN'T BE WITH YOU   -তবে শেষবারের মত দ...</td>\n",
       "      <td>negative</td>\n",
       "    </tr>\n",
       "    <tr>\n",
       "      <th>4</th>\n",
       "      <td>tangaila (5).jpg</td>\n",
       "      <td>যখন কোন Teacher বলে   \"সত্যটা বলো, তাহলে আর কি...</td>\n",
       "      <td>negative</td>\n",
       "    </tr>\n",
       "  </tbody>\n",
       "</table>\n",
       "</div>"
      ],
      "text/plain": [
       "         image_name                                           Captions  \\\n",
       "0  tangaila (1).jpg  আম্মাঃ HSC চলে আসছে , এখন থেকে তোর মোবাইল , ল্...   \n",
       "1  tangaila (2).jpg  WHEN YOUR COUSINS TAKES YOU TO THE DHAN KHET A...   \n",
       "2  tangaila (3).jpg  WHEN HE SAID 10 MINUTES BUT IT WAS ONLY 2 MINUTES   \n",
       "3  tangaila (4).jpg  SHE - I CAN'T BE WITH YOU   -তবে শেষবারের মত দ...   \n",
       "4  tangaila (5).jpg  যখন কোন Teacher বলে   \"সত্যটা বলো, তাহলে আর কি...   \n",
       "\n",
       "  Label_Sentiment  \n",
       "0        positive  \n",
       "1        negative  \n",
       "2        negative  \n",
       "3        negative  \n",
       "4        negative  "
      ]
     },
     "execution_count": 22,
     "metadata": {},
     "output_type": "execute_result"
    }
   ],
   "source": [
    "memosen.head()"
   ]
  },
  {
   "cell_type": "code",
   "execution_count": 25,
   "metadata": {},
   "outputs": [
    {
     "data": {
      "text/plain": [
       "array(['positive', 'negative', 'neutral'], dtype=object)"
      ]
     },
     "execution_count": 25,
     "metadata": {},
     "output_type": "execute_result"
    }
   ],
   "source": [
    "memosen['Label_Sentiment'].unique()"
   ]
  },
  {
   "cell_type": "code",
   "execution_count": 27,
   "metadata": {},
   "outputs": [],
   "source": [
    "# vqa_e_df = pd.read_csv(\"dataset/\") #dataset/VQA-E_train_set.json\n",
    "import json \n",
    "\n",
    "\n",
    "with open(\"dataset/VQA-E_train_set.json\", 'r') as file:\n",
    "    data = json.load(file)"
   ]
  },
  {
   "cell_type": "code",
   "execution_count": 33,
   "metadata": {},
   "outputs": [],
   "source": [
    "vqae_df = pd.DataFrame(data)"
   ]
  },
  {
   "cell_type": "code",
   "execution_count": 35,
   "metadata": {},
   "outputs": [
    {
     "data": {
      "text/html": [
       "<div>\n",
       "<style scoped>\n",
       "    .dataframe tbody tr th:only-of-type {\n",
       "        vertical-align: middle;\n",
       "    }\n",
       "\n",
       "    .dataframe tbody tr th {\n",
       "        vertical-align: top;\n",
       "    }\n",
       "\n",
       "    .dataframe thead th {\n",
       "        text-align: right;\n",
       "    }\n",
       "</style>\n",
       "<table border=\"1\" class=\"dataframe\">\n",
       "  <thead>\n",
       "    <tr style=\"text-align: right;\">\n",
       "      <th></th>\n",
       "      <th>answer_type</th>\n",
       "      <th>explanation</th>\n",
       "      <th>question</th>\n",
       "      <th>multiple_choice_answer</th>\n",
       "      <th>answers</th>\n",
       "      <th>question_type</th>\n",
       "      <th>img_id</th>\n",
       "    </tr>\n",
       "  </thead>\n",
       "  <tbody>\n",
       "    <tr>\n",
       "      <th>0</th>\n",
       "      <td>other</td>\n",
       "      <td>[Closeup of bins of food that include broccoli...</td>\n",
       "      <td>What is the green stuff?</td>\n",
       "      <td>broccoli</td>\n",
       "      <td>[broccoli, broccoli, broccoli, broccoli, brocc...</td>\n",
       "      <td>what is the</td>\n",
       "      <td>9</td>\n",
       "    </tr>\n",
       "    <tr>\n",
       "      <th>1</th>\n",
       "      <td>other</td>\n",
       "      <td>[Two giraffes standing in a tree filled area.,...</td>\n",
       "      <td>What is in front of the giraffes?</td>\n",
       "      <td>tree</td>\n",
       "      <td>[tree, tree, tree, tree, tree, tree, tree, tre...</td>\n",
       "      <td>what is</td>\n",
       "      <td>25</td>\n",
       "    </tr>\n",
       "    <tr>\n",
       "      <th>2</th>\n",
       "      <td>other</td>\n",
       "      <td>[A giraffe eating food from the top of the tre...</td>\n",
       "      <td>What do these giraffes have in common?</td>\n",
       "      <td>eating</td>\n",
       "      <td>[height, long neck, spots, they are tall, eati...</td>\n",
       "      <td>what</td>\n",
       "      <td>25</td>\n",
       "    </tr>\n",
       "    <tr>\n",
       "      <th>3</th>\n",
       "      <td>yes/no</td>\n",
       "      <td>[A giraffe eating food from the top of the tre...</td>\n",
       "      <td>Are the animals eating?</td>\n",
       "      <td>yes</td>\n",
       "      <td>[yes, yes, yes, yes, yes, yes, yes, yes, yes, ...</td>\n",
       "      <td>are the</td>\n",
       "      <td>25</td>\n",
       "    </tr>\n",
       "    <tr>\n",
       "      <th>4</th>\n",
       "      <td>other</td>\n",
       "      <td>[A giraffe eating food from the top of the tre...</td>\n",
       "      <td>Where is the giraffe?</td>\n",
       "      <td>near tree</td>\n",
       "      <td>[by tree, africa, by tree, near tree, zoo, nea...</td>\n",
       "      <td>where is the</td>\n",
       "      <td>25</td>\n",
       "    </tr>\n",
       "  </tbody>\n",
       "</table>\n",
       "</div>"
      ],
      "text/plain": [
       "  answer_type                                        explanation  \\\n",
       "0       other  [Closeup of bins of food that include broccoli...   \n",
       "1       other  [Two giraffes standing in a tree filled area.,...   \n",
       "2       other  [A giraffe eating food from the top of the tre...   \n",
       "3      yes/no  [A giraffe eating food from the top of the tre...   \n",
       "4       other  [A giraffe eating food from the top of the tre...   \n",
       "\n",
       "                                 question multiple_choice_answer  \\\n",
       "0                What is the green stuff?               broccoli   \n",
       "1       What is in front of the giraffes?                   tree   \n",
       "2  What do these giraffes have in common?                 eating   \n",
       "3                 Are the animals eating?                    yes   \n",
       "4                   Where is the giraffe?              near tree   \n",
       "\n",
       "                                             answers question_type  img_id  \n",
       "0  [broccoli, broccoli, broccoli, broccoli, brocc...   what is the       9  \n",
       "1  [tree, tree, tree, tree, tree, tree, tree, tre...       what is      25  \n",
       "2  [height, long neck, spots, they are tall, eati...          what      25  \n",
       "3  [yes, yes, yes, yes, yes, yes, yes, yes, yes, ...       are the      25  \n",
       "4  [by tree, africa, by tree, near tree, zoo, nea...  where is the      25  "
      ]
     },
     "execution_count": 35,
     "metadata": {},
     "output_type": "execute_result"
    }
   ],
   "source": [
    "vqae_df.head()"
   ]
  },
  {
   "cell_type": "code",
   "execution_count": 36,
   "metadata": {},
   "outputs": [
    {
     "data": {
      "text/plain": [
       "array(['other', 'yes/no', 'number'], dtype=object)"
      ]
     },
     "execution_count": 36,
     "metadata": {},
     "output_type": "execute_result"
    }
   ],
   "source": [
    "vqae_df['answer_type'].unique()"
   ]
  },
  {
   "cell_type": "code",
   "execution_count": 44,
   "metadata": {},
   "outputs": [
    {
     "data": {
      "text/plain": [
       "['Closeup of bins of food that include broccoli and bread.',\n",
       " 0.6791202865162379]"
      ]
     },
     "execution_count": 44,
     "metadata": {},
     "output_type": "execute_result"
    }
   ],
   "source": [
    "vqae_df.loc[0,'explanation']"
   ]
  },
  {
   "cell_type": "code",
   "execution_count": null,
   "metadata": {},
   "outputs": [],
   "source": []
  }
 ],
 "metadata": {
  "language_info": {
   "name": "python"
  }
 },
 "nbformat": 4,
 "nbformat_minor": 2
}
