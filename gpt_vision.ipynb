{
 "cells": [
  {
   "cell_type": "code",
   "execution_count": 1,
   "metadata": {},
   "outputs": [],
   "source": [
    "import os\n",
    "import base64\n",
    "import requests\n",
    "\n",
    "from dotenv import load_dotenv"
   ]
  },
  {
   "cell_type": "code",
   "execution_count": 2,
   "metadata": {},
   "outputs": [],
   "source": [
    "def encode_image(image_path):\n",
    "    with open(image_path, \"rb\") as image_file:\n",
    "        return base64.b64encode(image_file.read()).decode('utf-8')        "
   ]
  },
  {
   "cell_type": "code",
   "execution_count": 3,
   "metadata": {},
   "outputs": [],
   "source": [
    "load_dotenv()\n",
    "\n",
    "# OPENAI_API = os.getenv(\"OPENAI_API\") \n",
    "OPENAI_API = os.getenv(\"INTAAS_OPENAI_API\") #INTAAS_OPENAI_API"
   ]
  },
  {
   "cell_type": "code",
   "execution_count": null,
   "metadata": {},
   "outputs": [],
   "source": []
  },
  {
   "cell_type": "code",
   "execution_count": 20,
   "metadata": {},
   "outputs": [],
   "source": [
    "\n",
    "# Path to your image\n",
    "image_path = \"dataset/validation/65.jpg\"\n",
    "\n",
    "# Encode the image\n",
    "base64_image = encode_image(image_path)\n",
    "\n",
    "# Setup headers\n",
    "headers = {\n",
    "    \"Content-Type\": \"application/json\",\n",
    "    \"Authorization\": f\"Bearer {OPENAI_API}\"\n",
    "}\n",
    "\n",
    "# Prepare the payload\n",
    "\n",
    "payload = {\n",
    "    \"model\": \"gpt-4-turbo\",\n",
    "    \"messages\": [\n",
    "        {\n",
    "            \"role\": \"user\",\n",
    "            \"content\": [\n",
    "                {\"type\": \"text\", \"text\": \"\"},\n",
    "                {\"type\": \"image_url\", \"image_url\": {\"url\": \n",
    "f\"data:image/jpeg;base64,{base64_image}\"}}\n",
    "            ]\n",
    "        }\n",
    "    ],\n",
    "    \"max_tokens\": 300\n",
    "}   "
   ]
  },
  {
   "cell_type": "code",
   "execution_count": 21,
   "metadata": {},
   "outputs": [],
   "source": [
    "response = requests.post(\"https://api.openai.com/v1/chat/completions\", headers=headers, json=payload)"
   ]
  },
  {
   "cell_type": "code",
   "execution_count": 22,
   "metadata": {},
   "outputs": [
    {
     "name": "stdout",
     "output_type": "stream",
     "text": [
      "[{'index': 0, 'message': {'role': 'assistant', 'content': 'This image features a person in a dramatic costume performing at a nighttime event. The costume includes elaborate headgear, and the performer appears to be dancing or engaging in a theatrical motion with one arm raised. The lighting is dynamic, with intense colors and a foggy atmosphere adding to the dramatic effect of the scene. This setting suggests a cultural or festival-like event where performance art plays a key role.'}, 'logprobs': None, 'finish_reason': 'stop'}]\n"
     ]
    }
   ],
   "source": [
    "print(response.json()['choices'])"
   ]
  },
  {
   "cell_type": "code",
   "execution_count": 23,
   "metadata": {},
   "outputs": [
    {
     "data": {
      "text/plain": [
       "{'id': 'chatcmpl-9HnjV2bEVTIUTTYLLHeFiVdy3H6kC',\n",
       " 'object': 'chat.completion',\n",
       " 'created': 1714029777,\n",
       " 'model': 'gpt-4-turbo-2024-04-09',\n",
       " 'choices': [{'index': 0,\n",
       "   'message': {'role': 'assistant',\n",
       "    'content': 'This image features a person in a dramatic costume performing at a nighttime event. The costume includes elaborate headgear, and the performer appears to be dancing or engaging in a theatrical motion with one arm raised. The lighting is dynamic, with intense colors and a foggy atmosphere adding to the dramatic effect of the scene. This setting suggests a cultural or festival-like event where performance art plays a key role.'},\n",
       "   'logprobs': None,\n",
       "   'finish_reason': 'stop'}],\n",
       " 'usage': {'prompt_tokens': 262, 'completion_tokens': 79, 'total_tokens': 341},\n",
       " 'system_fingerprint': 'fp_67e6987839'}"
      ]
     },
     "execution_count": 23,
     "metadata": {},
     "output_type": "execute_result"
    }
   ],
   "source": [
    "response.json()"
   ]
  },
  {
   "cell_type": "code",
   "execution_count": 46,
   "metadata": {},
   "outputs": [
    {
     "data": {
      "text/plain": [
       "341"
      ]
     },
     "execution_count": 46,
     "metadata": {},
     "output_type": "execute_result"
    }
   ],
   "source": [
    "response.json()['usage']['total_tokens']"
   ]
  },
  {
   "cell_type": "code",
   "execution_count": 28,
   "metadata": {},
   "outputs": [],
   "source": [
    "\n",
    "\n",
    "import os"
   ]
  },
  {
   "cell_type": "code",
   "execution_count": 42,
   "metadata": {},
   "outputs": [],
   "source": [
    "images = os.listdir(\"dataset/Bornon\")"
   ]
  },
  {
   "cell_type": "code",
   "execution_count": 45,
   "metadata": {},
   "outputs": [],
   "source": [
    "import PIL.Image\n",
    "\n",
    "\n",
    "for i in images:\n",
    "    img = PIL.Image.open(f'dataset/Bornon/{i}')\n",
    "    if img.__dict__['_size'] != (400, 400):\n",
    "        print(img.height, img.width)    \n",
    "        # print(img.__dict__['_size'])"
   ]
  },
  {
   "cell_type": "code",
   "execution_count": null,
   "metadata": {},
   "outputs": [],
   "source": []
  },
  {
   "cell_type": "markdown",
   "metadata": {},
   "source": [
    "### Bornon Dataset\n",
    "each image size is 400*400. "
   ]
  },
  {
   "cell_type": "code",
   "execution_count": null,
   "metadata": {},
   "outputs": [],
   "source": []
  }
 ],
 "metadata": {
  "kernelspec": {
   "display_name": ".venv",
   "language": "python",
   "name": "python3"
  },
  "language_info": {
   "codemirror_mode": {
    "name": "ipython",
    "version": 3
   },
   "file_extension": ".py",
   "mimetype": "text/x-python",
   "name": "python",
   "nbconvert_exporter": "python",
   "pygments_lexer": "ipython3",
   "version": "3.10.12"
  }
 },
 "nbformat": 4,
 "nbformat_minor": 2
}
